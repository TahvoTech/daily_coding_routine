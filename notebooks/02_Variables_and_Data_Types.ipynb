{
 "cells": [
  {
   "cell_type": "markdown",
   "metadata": {},
   "source": [
    "2. [x] **Variables and Data Types**: Declare variables and experiment with different data types like integers, floats, strings, and booleans.\n",
    "    - Tip: Use the `type` function to check the data type of a variable."
   ]
  },
  {
   "cell_type": "code",
   "execution_count": 3,
   "metadata": {},
   "outputs": [
    {
     "name": "stdout",
     "output_type": "stream",
     "text": [
      "Integer: 10 Type: <class 'int'>\n",
      "Float: 10.5 Type: <class 'float'>\n",
      "String: Hello, World! Type: <class 'str'>\n",
      "Boolean: True Type: <class 'bool'>\n"
     ]
    }
   ],
   "source": [
    "# Declare variables\n",
    "integer_var = 10\n",
    "float_var = 10.5\n",
    "string_var = \"Hello, World!\"\n",
    "boolean_var = True\n",
    "\n",
    "# Print variables and their types\n",
    "print(\"Integer:\", integer_var, \"Type:\", type(integer_var))\n",
    "print(\"Float:\", float_var, \"Type:\", type(float_var))\n",
    "print(\"String:\", string_var, \"Type:\", type(string_var))\n",
    "print(\"Boolean:\", boolean_var, \"Type:\", type(boolean_var))"
   ]
  },
  {
   "cell_type": "code",
   "execution_count": null,
   "metadata": {},
   "outputs": [],
   "source": []
  }
 ],
 "metadata": {
  "kernelspec": {
   "display_name": "nosql_course_env",
   "language": "python",
   "name": "python3"
  },
  "language_info": {
   "codemirror_mode": {
    "name": "ipython",
    "version": 3
   },
   "file_extension": ".py",
   "mimetype": "text/x-python",
   "name": "python",
   "nbconvert_exporter": "python",
   "pygments_lexer": "ipython3",
   "version": "3.11.11"
  }
 },
 "nbformat": 4,
 "nbformat_minor": 2
}
