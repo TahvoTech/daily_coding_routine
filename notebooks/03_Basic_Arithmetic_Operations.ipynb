{
 "cells": [
  {
   "cell_type": "markdown",
   "metadata": {},
   "source": [
    "3. [x] **Basic Arithmetic Operations**: Perform operations such as addition, subtraction, multiplication, and division using variables.\n",
    "    - Tip: Use operators like `+`, `-`, `*`, and `/` for arithmetic operations."
   ]
  },
  {
   "cell_type": "code",
   "execution_count": null,
   "metadata": {},
   "outputs": [
    {
     "name": "stdout",
     "output_type": "stream",
     "text": [
      "Addition: 15\n",
      "Subtraction: 5\n",
      "Multiplication: 50\n",
      "Division: 2.0\n"
     ]
    }
   ],
   "source": [
    "# Define variables\n",
    "a = 10\n",
    "b = 5\n",
    "\n",
    "# Perform arithmetic operations\n",
    "addition = a + b\n",
    "subtraction = a - b\n",
    "multiplication = a * b\n",
    "division = a / b\n",
    "\n",
    "# Print results\n",
    "print(f\"Addition: {addition}\")\n",
    "print(f\"Subtraction: {subtraction}\")\n",
    "print(f\"Multiplication: {multiplication}\")\n",
    "print(f\"Division: {division}\")"
   ]
  },
  {
   "cell_type": "code",
   "execution_count": null,
   "metadata": {},
   "outputs": [],
   "source": []
  }
 ],
 "metadata": {
  "kernelspec": {
   "display_name": "daily_coding_routine-env",
   "language": "python",
   "name": "python3"
  },
  "language_info": {
   "codemirror_mode": {
    "name": "ipython",
    "version": 3
   },
   "file_extension": ".py",
   "mimetype": "text/x-python",
   "name": "python",
   "nbconvert_exporter": "python",
   "pygments_lexer": "ipython3",
   "version": "3.8.20"
  }
 },
 "nbformat": 4,
 "nbformat_minor": 2
}
